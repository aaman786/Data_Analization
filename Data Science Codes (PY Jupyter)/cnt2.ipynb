{
 "metadata": {
  "language_info": {
   "codemirror_mode": {
    "name": "ipython",
    "version": 3
   },
   "file_extension": ".py",
   "mimetype": "text/x-python",
   "name": "python",
   "nbconvert_exporter": "python",
   "pygments_lexer": "ipython3",
   "version": "3.9.4"
  },
  "orig_nbformat": 2,
  "kernelspec": {
   "name": "python394jvsc74a57bd016715fc5017847b731d2f263ffa9b85bdd7212aaa7579d4f09609ac2c0ea76e4",
   "display_name": "Python 3.9.4 64-bit"
  },
  "metadata": {
   "interpreter": {
    "hash": "16715fc5017847b731d2f263ffa9b85bdd7212aaa7579d4f09609ac2c0ea76e4"
   }
  }
 },
 "nbformat": 4,
 "nbformat_minor": 2,
 "cells": [
  {
   "cell_type": "code",
   "execution_count": 2,
   "metadata": {},
   "outputs": [],
   "source": [
    "import numpy as np"
   ]
  },
  {
   "cell_type": "code",
   "execution_count": 3,
   "metadata": {},
   "outputs": [
    {
     "output_type": "stream",
     "name": "stdout",
     "text": [
      "<class 'numpy.ndarray'>\n"
     ]
    }
   ],
   "source": [
    "l1 = np.arange(100000) #list through numpy  \n",
    "print(type(l1))"
   ]
  },
  {
   "cell_type": "code",
   "execution_count": 4,
   "metadata": {},
   "outputs": [
    {
     "output_type": "stream",
     "name": "stdout",
     "text": [
      "<class 'list'>\n"
     ]
    }
   ],
   "source": [
    "pylist=list(range(100000)) #simple list\n",
    "print(type(pylist))"
   ]
  },
  {
   "cell_type": "code",
   "execution_count": 27,
   "metadata": {},
   "outputs": [
    {
     "output_type": "stream",
     "name": "stdout",
     "text": [
      "Time by List through Python \nWall time: 80 ms\nTime by List through Numpy \nWall time: 0 ns\n\nThis is the time Difference between the Python execution and Numpy. And shows that Numpy is fast.\n"
     ]
    }
   ],
   "source": [
    "# Numpy-> Code is written in C therefore code gets converted into low level language(machine code) so it is fast in execution than python\n",
    "\n",
    "print(f\"Time by List through Python \")\n",
    "thrgh_py = %time for _ in range(10): [item *3 for item in pylist]\n",
    "\n",
    "print(f\"Time by List through Numpy \")\n",
    "%time for _ in range(10): l1 = l1 *3 \n",
    "\n",
    "print(\"\\nThis is the time Difference between the Python execution and Numpy. And shows that Numpy is fast.\")"
   ]
  }
 ]
}