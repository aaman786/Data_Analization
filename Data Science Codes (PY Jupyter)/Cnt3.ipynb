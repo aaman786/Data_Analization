{
 "metadata": {
  "language_info": {
   "codemirror_mode": {
    "name": "ipython",
    "version": 3
   },
   "file_extension": ".py",
   "mimetype": "text/x-python",
   "name": "python",
   "nbconvert_exporter": "python",
   "pygments_lexer": "ipython3",
   "version": "3.9.4"
  },
  "orig_nbformat": 2,
  "kernelspec": {
   "name": "python394jvsc74a57bd016715fc5017847b731d2f263ffa9b85bdd7212aaa7579d4f09609ac2c0ea76e4",
   "display_name": "Python 3.9.4 64-bit"
  },
  "metadata": {
   "interpreter": {
    "hash": "16715fc5017847b731d2f263ffa9b85bdd7212aaa7579d4f09609ac2c0ea76e4"
   }
  }
 },
 "nbformat": 4,
 "nbformat_minor": 2,
 "cells": [
  {
   "cell_type": "code",
   "execution_count": 5,
   "metadata": {},
   "outputs": [],
   "source": [
    "import numpy as np"
   ]
  },
  {
   "cell_type": "code",
   "execution_count": 6,
   "metadata": {},
   "outputs": [
    {
     "output_type": "stream",
     "name": "stdout",
     "text": [
      "<class 'numpy.ndarray'>\n[3 4 6 7 0]\n\n\n<class 'numpy.ndarray'>\n[[1 2 3 4]\n [2 4 6 8]]\n"
     ]
    }
   ],
   "source": [
    "arr1= np.array([3,4,6,7,0]) # n dimenssion array\r\n",
    "print(type(arr1)) #getting the type of array\r\n",
    "print(arr1)\r\n",
    "\r\n",
    "print('\\n')\r\n",
    "arr2 = np.array([[1,2,3,4],[2,4,6,8,]])\r\n",
    "print(type(arr2)) #if float then print 0 because datatype is 'int32'\r\n",
    "print(arr2)\r\n"
   ]
  },
  {
   "cell_type": "code",
   "execution_count": 15,
   "metadata": {},
   "outputs": [
    {
     "output_type": "stream",
     "name": "stdout",
     "text": [
      "[[ 1  4  9 16]\n [ 4 16 36 64]]\n\n\n[[ 2  4  6  8]\n [ 4  8 12 16]]\n"
     ]
    }
   ],
   "source": [
    "#array multiplicaton \n",
    "mul=arr2*arr2   #Mulpication is done by element wise not by matrics\n",
    "print(mul)\n",
    "\n",
    "print(\"\\n\")\n",
    "#addition of arrays\n",
    "add=arr2+arr2   #Mulpication is done by element wise not by matrics\n",
    "print(add)"
   ]
  },
  {
   "cell_type": "code",
   "execution_count": 23,
   "metadata": {},
   "outputs": [
    {
     "output_type": "stream",
     "name": "stdout",
     "text": [
      "[8916100448256]\n"
     ]
    },
    {
     "output_type": "error",
     "ename": "OverflowError",
     "evalue": "Python int too large to convert to C long",
     "traceback": [
      "\u001b[1;31m---------------------------------------------------------------------------\u001b[0m",
      "\u001b[1;31mOverflowError\u001b[0m                             Traceback (most recent call last)",
      "\u001b[1;32m<ipython-input-23-3b9ed294fd3f>\u001b[0m in \u001b[0;36m<module>\u001b[1;34m\u001b[0m\n\u001b[0;32m      4\u001b[0m \u001b[1;33m\u001b[0m\u001b[0m\n\u001b[0;32m      5\u001b[0m \u001b[1;31m#changing the datatype\u001b[0m\u001b[1;33m\u001b[0m\u001b[1;33m\u001b[0m\u001b[1;33m\u001b[0m\u001b[0m\n\u001b[1;32m----> 6\u001b[1;33m \u001b[0ma\u001b[0m\u001b[1;33m=\u001b[0m\u001b[0mnp\u001b[0m\u001b[1;33m.\u001b[0m\u001b[0marray\u001b[0m\u001b[1;33m(\u001b[0m\u001b[1;33m[\u001b[0m\u001b[1;36m12\u001b[0m\u001b[1;33m**\u001b[0m\u001b[1;36m12\u001b[0m\u001b[1;33m]\u001b[0m\u001b[1;33m,\u001b[0m \u001b[0mdtype\u001b[0m\u001b[1;33m=\u001b[0m\u001b[1;34m'int32'\u001b[0m\u001b[1;33m)\u001b[0m\u001b[1;33m\u001b[0m\u001b[1;33m\u001b[0m\u001b[0m\n\u001b[0m\u001b[0;32m      7\u001b[0m \u001b[0mprint\u001b[0m\u001b[1;33m(\u001b[0m\u001b[0ma\u001b[0m\u001b[1;33m)\u001b[0m\u001b[1;33m\u001b[0m\u001b[1;33m\u001b[0m\u001b[0m\n",
      "\u001b[1;31mOverflowError\u001b[0m: Python int too large to convert to C long"
     ]
    }
   ],
   "source": [
    "#making new array \n",
    "a=np.array([12**12])\n",
    "print(a)\n",
    "\n",
    "#changing the datatype\n",
    "a=np.array([12**12], dtype='int32')\n",
    "print(a) #gives error beacuase datatype is not the type of "
   ]
  },
  {
   "cell_type": "code",
   "execution_count": 7,
   "metadata": {},
   "outputs": [
    {
     "output_type": "stream",
     "name": "stdout",
     "text": [
      "(2, 4)\n\n\nint32\n"
     ]
    }
   ],
   "source": [
    "a1=arr2.shape # gives in the form of [rows,column]\n",
    "print(a1)\n",
    "print('\\n')\n",
    "a2=arr2.dtype #gives data type\n",
    "print(a2)"
   ]
  },
  {
   "cell_type": "code",
   "execution_count": 10,
   "metadata": {},
   "outputs": [
    {
     "output_type": "stream",
     "name": "stdout",
     "text": [
      "[[0. 0. 0. 0. 0. 0. 0.]\n [0. 0. 0. 0. 0. 0. 0.]\n [0. 0. 0. 0. 0. 0. 0.]\n [0. 0. 0. 0. 0. 0. 0.]]\n\n\n[[4.67296746e-307 1.69121096e-306 1.29060871e-306 4.45061456e-308\n  1.95822253e-306 7.56597770e-307]\n [9.34577196e-307 1.37962456e-306 1.60216183e-306 7.56602523e-307\n  1.33511562e-306 1.37959129e-306]\n [9.34609111e-307 4.22793232e-307 4.45052544e-308 2.22522597e-306\n  6.23059386e-307 2.22522597e-306]\n [1.33511969e-306 1.42419666e-306 1.39070936e-307 1.39075434e-307\n  8.90068250e-307 1.16820452e-307]]\n"
     ]
    }
   ],
   "source": [
    "#arrray creating functions\n",
    "a4=np.zeros((4,7)) #this acpt arguments in the form of tupple. used for making arrays\n",
    "print(a4)\n",
    "\n",
    "print(\"\\n\")\n",
    "a5=np.empty((4,6))\n",
    "print(a5)\n",
    "\n",
    "# difference beween the function np.zeros and np.empty\n",
    "# np.zeros -> Always contains zeros '0'\n",
    "# np.empty -> They can contain zero or garbage value. But most of the time they are zeros. And directly allocates the memory to the array\n",
    "\n"
   ]
  },
  {
   "cell_type": "code",
   "execution_count": 34,
   "metadata": {},
   "outputs": [
    {
     "output_type": "stream",
     "name": "stdout",
     "text": [
      "float64\n\n\nfloat64\n"
     ]
    }
   ],
   "source": [
    "t1=np.zeros(4).dtype #type\n",
    "print(t1) # type of upper line\n",
    "print('\\n')\n",
    "t2 = np.ones(6).dtype\n",
    "print(t2)"
   ]
  },
  {
   "source": [
    "##Slicing"
   ],
   "cell_type": "markdown",
   "metadata": {}
  },
  {
   "cell_type": "code",
   "execution_count": 75,
   "metadata": {},
   "outputs": [
    {
     "output_type": "stream",
     "name": "stdout",
     "text": [
      "Real Array is [1 2 3 4 5 6]\n\nSlicing function 1...\nElements of array got between index 0 to 5 (After Slicing): [3 4 5]\n\nChanging the values\nValues got change in Sliced Array at index 0(which get reflected in Real Array) [11  4  5]\nValues got change in real Array at index 2: [ 1  2 11  4  5  6]\n"
     ]
    }
   ],
   "source": [
    "arr=np.array([1,2,3,4,5,6])\n",
    "print(f\"Real Array is {arr}\")\n",
    "\n",
    "print('\\nSlicing function 1...')\n",
    "#Slicing function 1 this will give the elements from index 2 to 5\n",
    "b=arr[2:5] #this will give the elements from index 2 to 5\n",
    "print(f\"Elements of array got between index 0 to 5 (After Slicing): {b}\")\n",
    "\n",
    "print(\"\\nChanging the values\")\n",
    "#changing the value at\n",
    "b[0]=11\n",
    "print(f\"Values got change in Sliced Array at index 0(which get reflected in Real Array) {b}\") #this get change but also get change\n",
    "print(f\"Values got change in real Array at index 2: {arr}\")"
   ]
  }
 ]
}