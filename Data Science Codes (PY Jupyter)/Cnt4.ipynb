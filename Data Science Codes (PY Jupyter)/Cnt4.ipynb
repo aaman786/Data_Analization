{
 "metadata": {
  "language_info": {
   "codemirror_mode": {
    "name": "ipython",
    "version": 3
   },
   "file_extension": ".py",
   "mimetype": "text/x-python",
   "name": "python",
   "nbconvert_exporter": "python",
   "pygments_lexer": "ipython3",
   "version": "3.9.4"
  },
  "orig_nbformat": 2,
  "kernelspec": {
   "name": "python394jvsc74a57bd016715fc5017847b731d2f263ffa9b85bdd7212aaa7579d4f09609ac2c0ea76e4",
   "display_name": "Python 3.9.4 64-bit"
  },
  "metadata": {
   "interpreter": {
    "hash": "16715fc5017847b731d2f263ffa9b85bdd7212aaa7579d4f09609ac2c0ea76e4"
   }
  }
 },
 "nbformat": 4,
 "nbformat_minor": 2,
 "cells": [
  {
   "cell_type": "code",
   "execution_count": 9,
   "metadata": {},
   "outputs": [],
   "source": [
    "import numpy as np"
   ]
  },
  {
   "cell_type": "code",
   "execution_count": 10,
   "metadata": {},
   "outputs": [
    {
     "output_type": "stream",
     "name": "stdout",
     "text": [
      "Real Array is \n[[1 2 4]\n [2 4 6]]\n\nUsing the axis function...\nAdding Column Wise: [ 3  6 10]\nAdding Row Wise: [ 7 12]\n"
     ]
    }
   ],
   "source": [
    "arr1 = np.array([[1,2,4],\n",
    "                 [2,4,6]])\n",
    "print(f\"Real Array is \\n{arr1}\")\n",
    "\n",
    "#adding operation using axis function\n",
    "print(\"\\nUsing the axis function...\")\n",
    "add_colm=arr1.sum(axis=0) #Add column wise\n",
    "print(f\"Adding Column Wise: {add_colm}\")\n",
    "add_row=arr1.sum(axis=1) #Add Row wise\n",
    "print(f\"Adding Row Wise: {add_row}\")\n"
   ]
  },
  {
   "cell_type": "code",
   "execution_count": 16,
   "metadata": {},
   "outputs": [
    {
     "output_type": "stream",
     "name": "stdout",
     "text": [
      "Dot Product of arr1 and arr2 is \n [[21 15]\n [34 28]]\n\nAnd Cross Product is \n [[  0   0   0]\n [ -8  40 -24]]\n"
     ]
    }
   ],
   "source": [
    "# Dot and Cross Product.\n",
    "arr2 = np.array([[1,2,4],\n",
    "                 [7,2,1]])\n",
    "#dir(np)            for getting the function  of numpy\n",
    "\n",
    "print(\"Dot Product of arr1 and arr2 is \\n\",np.dot(arr1,arr2.transpose())) #funtion for getting the dot product\n",
    "\n",
    "print(\"\\nAnd Cross Product is \\n\",np.cross(arr1,arr2))    #Function for cross product\n"
   ]
  },
  {
   "cell_type": "code",
   "execution_count": 29,
   "metadata": {},
   "outputs": [
    {
     "output_type": "stream",
     "name": "stdout",
     "text": [
      "Real array\n[[1 2 4]\n [7 2 1]]\n\n [[1 2 4]\n [1 2 7]]\n\n [[1 2 1]\n [7 2 4]]\n"
     ]
    }
   ],
   "source": [
    "#Sorting Function\n",
    "print(f\"Real array\\n{arr2}\")\n",
    "\n",
    "a=np.sort(arr2) #this will sort in row-row \n",
    "# np.sort(arr2, axis=1) this is aliter of upper line\n",
    "print(\"\\n\",a)\n",
    "\n",
    "b=np.sort(arr2,axis =0, kind=\"mergsort\") # this will sort column-column, Kind wil reduce time\n",
    "print(\"\\n\",b)"
   ]
  }
 ]
}