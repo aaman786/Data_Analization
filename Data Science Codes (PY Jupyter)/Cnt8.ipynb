{
 "metadata": {
  "language_info": {
   "codemirror_mode": {
    "name": "ipython",
    "version": 3
   },
   "file_extension": ".py",
   "mimetype": "text/x-python",
   "name": "python",
   "nbconvert_exporter": "python",
   "pygments_lexer": "ipython3",
   "version": "3.9.4"
  },
  "orig_nbformat": 2,
  "kernelspec": {
   "name": "python394jvsc74a57bd016715fc5017847b731d2f263ffa9b85bdd7212aaa7579d4f09609ac2c0ea76e4",
   "display_name": "Python 3.9.4 64-bit"
  },
  "metadata": {
   "interpreter": {
    "hash": "16715fc5017847b731d2f263ffa9b85bdd7212aaa7579d4f09609ac2c0ea76e4"
   }
  }
 },
 "nbformat": 4,
 "nbformat_minor": 2,
 "cells": [
  {
   "cell_type": "code",
   "execution_count": 16,
   "metadata": {},
   "outputs": [],
   "source": [
    "#Reading the CSV(sheet) and its functions\n",
    "import pandas as pd"
   ]
  },
  {
   "cell_type": "code",
   "execution_count": 17,
   "metadata": {},
   "outputs": [
    {
     "output_type": "execute_result",
     "data": {
      "text/plain": [
       "          Date      Open      High       Low     Close  Shares Traded  \\\n",
       "0    04-Dec-17  10175.05  10179.20  10095.70  10127.75      153240126   \n",
       "1    05-Dec-17  10118.25  10147.95  10069.10  10118.25      160253042   \n",
       "2    06-Dec-17  10088.80  10104.20  10033.35  10044.10      171208366   \n",
       "3    07-Dec-17  10063.45  10182.65  10061.90  10166.70      171339022   \n",
       "4    08-Dec-17  10198.45  10270.85  10195.25  10265.65      206234019   \n",
       "..         ...       ...       ...       ...       ...            ...   \n",
       "219  24-Oct-18  10278.15  10290.65  10126.70  10224.75      362272428   \n",
       "220  25-Oct-18  10135.05  10166.60  10079.30  10124.90      522421914   \n",
       "221  26-Oct-18  10122.35  10128.85  10004.55  10030.00      375563273   \n",
       "222  29-Oct-18  10078.10  10275.30  10020.35  10250.85      375749433   \n",
       "223  30-Oct-18  10239.40  10285.10  10175.35  10198.40      298753965   \n",
       "\n",
       "     Turnover (Rs. Cr)  \n",
       "0              8458.66  \n",
       "1              8749.09  \n",
       "2              9598.82  \n",
       "3              9910.28  \n",
       "4             11468.15  \n",
       "..                 ...  \n",
       "219           19413.24  \n",
       "220           23503.76  \n",
       "221           16120.14  \n",
       "222           17514.85  \n",
       "223           14789.51  \n",
       "\n",
       "[224 rows x 7 columns]"
      ],
      "text/html": "<div>\n<style scoped>\n    .dataframe tbody tr th:only-of-type {\n        vertical-align: middle;\n    }\n\n    .dataframe tbody tr th {\n        vertical-align: top;\n    }\n\n    .dataframe thead th {\n        text-align: right;\n    }\n</style>\n<table border=\"1\" class=\"dataframe\">\n  <thead>\n    <tr style=\"text-align: right;\">\n      <th></th>\n      <th>Date</th>\n      <th>Open</th>\n      <th>High</th>\n      <th>Low</th>\n      <th>Close</th>\n      <th>Shares Traded</th>\n      <th>Turnover (Rs. Cr)</th>\n    </tr>\n  </thead>\n  <tbody>\n    <tr>\n      <th>0</th>\n      <td>04-Dec-17</td>\n      <td>10175.05</td>\n      <td>10179.20</td>\n      <td>10095.70</td>\n      <td>10127.75</td>\n      <td>153240126</td>\n      <td>8458.66</td>\n    </tr>\n    <tr>\n      <th>1</th>\n      <td>05-Dec-17</td>\n      <td>10118.25</td>\n      <td>10147.95</td>\n      <td>10069.10</td>\n      <td>10118.25</td>\n      <td>160253042</td>\n      <td>8749.09</td>\n    </tr>\n    <tr>\n      <th>2</th>\n      <td>06-Dec-17</td>\n      <td>10088.80</td>\n      <td>10104.20</td>\n      <td>10033.35</td>\n      <td>10044.10</td>\n      <td>171208366</td>\n      <td>9598.82</td>\n    </tr>\n    <tr>\n      <th>3</th>\n      <td>07-Dec-17</td>\n      <td>10063.45</td>\n      <td>10182.65</td>\n      <td>10061.90</td>\n      <td>10166.70</td>\n      <td>171339022</td>\n      <td>9910.28</td>\n    </tr>\n    <tr>\n      <th>4</th>\n      <td>08-Dec-17</td>\n      <td>10198.45</td>\n      <td>10270.85</td>\n      <td>10195.25</td>\n      <td>10265.65</td>\n      <td>206234019</td>\n      <td>11468.15</td>\n    </tr>\n    <tr>\n      <th>...</th>\n      <td>...</td>\n      <td>...</td>\n      <td>...</td>\n      <td>...</td>\n      <td>...</td>\n      <td>...</td>\n      <td>...</td>\n    </tr>\n    <tr>\n      <th>219</th>\n      <td>24-Oct-18</td>\n      <td>10278.15</td>\n      <td>10290.65</td>\n      <td>10126.70</td>\n      <td>10224.75</td>\n      <td>362272428</td>\n      <td>19413.24</td>\n    </tr>\n    <tr>\n      <th>220</th>\n      <td>25-Oct-18</td>\n      <td>10135.05</td>\n      <td>10166.60</td>\n      <td>10079.30</td>\n      <td>10124.90</td>\n      <td>522421914</td>\n      <td>23503.76</td>\n    </tr>\n    <tr>\n      <th>221</th>\n      <td>26-Oct-18</td>\n      <td>10122.35</td>\n      <td>10128.85</td>\n      <td>10004.55</td>\n      <td>10030.00</td>\n      <td>375563273</td>\n      <td>16120.14</td>\n    </tr>\n    <tr>\n      <th>222</th>\n      <td>29-Oct-18</td>\n      <td>10078.10</td>\n      <td>10275.30</td>\n      <td>10020.35</td>\n      <td>10250.85</td>\n      <td>375749433</td>\n      <td>17514.85</td>\n    </tr>\n    <tr>\n      <th>223</th>\n      <td>30-Oct-18</td>\n      <td>10239.40</td>\n      <td>10285.10</td>\n      <td>10175.35</td>\n      <td>10198.40</td>\n      <td>298753965</td>\n      <td>14789.51</td>\n    </tr>\n  </tbody>\n</table>\n<p>224 rows × 7 columns</p>\n</div>"
     },
     "metadata": {},
     "execution_count": 17
    }
   ],
   "source": [
    "df = pd.read_csv(r\"C:\\Users\\Aamaan Satvilkar\\Desktop\\data.csv\") #syntax of reading CSV\n",
    "df"
   ]
  },
  {
   "cell_type": "code",
   "execution_count": 19,
   "metadata": {},
   "outputs": [
    {
     "output_type": "stream",
     "name": "stdout",
     "text": [
      "float64\n"
     ]
    }
   ],
   "source": [
    "print(df['Close'].dtype) #this will give the Datatype of specific\n",
    "#if data has space before then remove it"
   ]
  },
  {
   "cell_type": "code",
   "execution_count": 20,
   "metadata": {},
   "outputs": [
    {
     "output_type": "stream",
     "name": "stdout",
     "text": [
      "0      04-Dec-17\n1      05-Dec-17\n2      06-Dec-17\n3      07-Dec-17\n4      08-Dec-17\n         ...    \n219    24-Oct-18\n220    25-Oct-18\n221    26-Oct-18\n222    29-Oct-18\n223    30-Oct-18\nName: Date, Length: 224, dtype: category\nCategories (224, object): ['01-Aug-18', '01-Feb-18', '01-Jan-18', '01-Jun-18', ..., '31-Aug-18', '31-Jan-18', '31-Jul-18', '31-May-18']\n"
     ]
    }
   ],
   "source": [
    "print(df['Date'].astype('category')) #this will map like list but fill data which takes less space"
   ]
  }
 ]
}