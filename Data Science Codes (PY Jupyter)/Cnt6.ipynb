{
 "metadata": {
  "language_info": {
   "codemirror_mode": {
    "name": "ipython",
    "version": 3
   },
   "file_extension": ".py",
   "mimetype": "text/x-python",
   "name": "python",
   "nbconvert_exporter": "python",
   "pygments_lexer": "ipython3",
   "version": "3.9.4"
  },
  "orig_nbformat": 2,
  "kernelspec": {
   "name": "python394jvsc74a57bd016715fc5017847b731d2f263ffa9b85bdd7212aaa7579d4f09609ac2c0ea76e4",
   "display_name": "Python 3.9.4 64-bit"
  },
  "metadata": {
   "interpreter": {
    "hash": "16715fc5017847b731d2f263ffa9b85bdd7212aaa7579d4f09609ac2c0ea76e4"
   }
  }
 },
 "nbformat": 4,
 "nbformat_minor": 2,
 "cells": [
  {
   "source": [
    "Pandas"
   ],
   "cell_type": "markdown",
   "metadata": {}
  },
  {
   "cell_type": "code",
   "execution_count": 13,
   "metadata": {},
   "outputs": [],
   "source": [
    "# Pandas -> 1) First take all the data in the ram and then analysis begins. This make things faster. \n",
    "# 2) It is used to analysis Excel data."
   ]
  },
  {
   "cell_type": "code",
   "execution_count": 28,
   "metadata": {},
   "outputs": [],
   "source": [
    "import pandas as pd"
   ]
  },
  {
   "cell_type": "code",
   "execution_count": 44,
   "metadata": {},
   "outputs": [
    {
     "output_type": "stream",
     "name": "stdout",
     "text": [
      "Empty DataFrame\nColumns: []\nIndex: []\n\nThe Dataframe2 is\n    0   1   2   3\n0   1   2   3   4\n1   2   4   6   8\n2   5   6   7   8\n3   7   8   9   0\n4  10  20  30  40\n\nThe above 2 rows of Dataframe2 are:\n    0  1  2  3\n0  1  2  3  4\n1  2  4  6  8\n\nThe bottom 2 rows are\n     0   1   2   3\n3   7   8   9   0\n4  10  20  30  40\n"
     ]
    }
   ],
   "source": [
    "df=pd.DataFrame() # This is an empty DataFrame, in which we can add or append data\n",
    "print(df)\n",
    "\n",
    "print(\"\\nThe Dataframe2 is\")\n",
    "df1=pd.DataFrame([[1,2,3,4],[2,4,6,8],[5,6,7,8],[7,8,9,0],[10,20,30,40]])\n",
    "print(df1)\n",
    "print(\"\\nThe above 2 rows of Dataframe2 are:\\n\",df1.head(2)) #this will show above 2 rows\n",
    "print(\"\\nThe bottom 2 rows are\\n\",df1.tail(2))"
   ]
  },
  {
   "cell_type": "code",
   "execution_count": null,
   "metadata": {},
   "outputs": [],
   "source": []
  }
 ]
}