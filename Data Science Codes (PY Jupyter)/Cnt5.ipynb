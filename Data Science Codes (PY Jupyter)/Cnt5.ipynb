{
 "metadata": {
  "language_info": {
   "codemirror_mode": {
    "name": "ipython",
    "version": 3
   },
   "file_extension": ".py",
   "mimetype": "text/x-python",
   "name": "python",
   "nbconvert_exporter": "python",
   "pygments_lexer": "ipython3",
   "version": "3.9.4"
  },
  "orig_nbformat": 2,
  "kernelspec": {
   "name": "python394jvsc74a57bd016715fc5017847b731d2f263ffa9b85bdd7212aaa7579d4f09609ac2c0ea76e4",
   "display_name": "Python 3.9.4 64-bit"
  },
  "metadata": {
   "interpreter": {
    "hash": "16715fc5017847b731d2f263ffa9b85bdd7212aaa7579d4f09609ac2c0ea76e4"
   }
  }
 },
 "nbformat": 4,
 "nbformat_minor": 2,
 "cells": [
  {
   "cell_type": "code",
   "execution_count": 9,
   "metadata": {},
   "outputs": [],
   "source": [
    "#Numpy argsort, argmin, Argmax and other tips\n",
    "import numpy as np\n",
    "\n"
   ]
  },
  {
   "cell_type": "code",
   "execution_count": 58,
   "metadata": {},
   "outputs": [
    {
     "output_type": "stream",
     "name": "stdout",
     "text": [
      "This is a Array1(Numpy arange func):  [0 1 2 3 4 5 6 7 8]\n\nThis is Array2(Numpy array Func): \n [ 1 23 45  6  8 45  3  4  3  2  1  4  2  3  6  4  2 11]\nSize of Array2: f(18,)\nAfter reshapig the Array2 in the form 2*9(m*n):\n [[ 1 23 45  6  8 45  3  4  3]\n [ 2  1  4  2  3  6  4  2 11]]\nSorting acc to INDEX:  [ 0 10 12  9 16 13  8  6  7 11 15  3 14  4 17  1  5  2]\n\nThe index of minimun number of Array2: 0\nThe index of Maximmum number:  2\n"
     ]
    }
   ],
   "source": [
    "arr1=np.arange(8) \n",
    "print(\"This is a Array1(Numpy arange func): \",a)\n",
    "\n",
    "b=np.array([1,23,45,6,8,45,3,4,3,2,1,4,2,3,6,4,2,11])\n",
    "print(\"\\nThis is Array2(Numpy array Func): \\n\",b)\n",
    "\n",
    "b0=np.shape(b) #This will give the size of array\n",
    "\n",
    "print(f\"Size of Array2: f{b0}\")\n",
    "\n",
    "b1=b.reshape(2,9) #Here the number of elemets are 18, calculation is done like m*n= 2*9\n",
    "print(f\"After reshapig the Array2 in the form 2*9(m*n):\\n {b1}\")\n",
    "\n",
    "sort = np.argsort(b) #This will sort in ascending order but gives the index\n",
    "print(\"Sorting acc to INDEX: \",sort)\n",
    "\n",
    "a1=np.argmin(b) #gives index of minimum number\n",
    "print(f\"\\nThe index of minimun number of Array2: {a1}\")\n",
    "a1=np.argmax(b)     #gives index of maximum number\n",
    "print(\"The index of Maximmum number: \",a1)\n",
    "\n",
    "\n",
    "\n"
   ]
  }
 ]
}